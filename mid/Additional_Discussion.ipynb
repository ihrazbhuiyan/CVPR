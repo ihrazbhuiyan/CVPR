{
 "cells": [
  {
   "cell_type": "markdown",
   "id": "f6e39f3a",
   "metadata": {},
   "source": [
    "<h3>Additional Discussion</h3>\n",
    "  <p>Manhattan distance may have performed better than Euclidean distance due to high dimentionality, CIFAR-10 dataset consists of 32x32 color images, resulting in a high-dimensional feature space. Dimensionality can affect the performance of distance-based algorithms like kNN. Manhattan distance may have been less sensitive to this problem compared to Euclidean distance.</p>\n",
    "  <br>\n",
    "  <p>Another potential reason could be that Euclidean distance is sensitive to the scale of features, as it squares the differences in each dimension. Manhattan distance, on the other hand, only sums the absolute differences, which makes it less sensitive to differences in feature scales.</p>"
   ]
  },
  {
   "cell_type": "code",
   "execution_count": null,
   "id": "31ff8ef5",
   "metadata": {},
   "outputs": [],
   "source": []
  }
 ],
 "metadata": {
  "kernelspec": {
   "display_name": "Python [conda env:cvpra] *",
   "language": "python",
   "name": "conda-env-cvpra-py"
  },
  "language_info": {
   "codemirror_mode": {
    "name": "ipython",
    "version": 3
   },
   "file_extension": ".py",
   "mimetype": "text/x-python",
   "name": "python",
   "nbconvert_exporter": "python",
   "pygments_lexer": "ipython3",
   "version": "3.8.18"
  }
 },
 "nbformat": 4,
 "nbformat_minor": 5
}
